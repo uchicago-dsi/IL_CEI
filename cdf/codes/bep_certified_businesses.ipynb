{
 "cells": [
  {
   "cell_type": "code",
   "execution_count": 1,
   "id": "fbdea573-2075-4740-bba0-375d5e9c9518",
   "metadata": {},
   "outputs": [],
   "source": [
    "import pandas as pd\n",
    "import json\n",
    "from geopy.geocoders import Nominatim\n",
    "import requests"
   ]
  },
  {
   "cell_type": "code",
   "execution_count": 2,
   "id": "42abcadb-9013-44d7-9f5f-8fb4aabebc3e",
   "metadata": {
    "tags": []
   },
   "outputs": [],
   "source": [
    "import geocoding"
   ]
  },
  {
   "cell_type": "code",
   "execution_count": 3,
   "id": "dfa14031-6cbf-45c9-be74-f4ac5ea0f144",
   "metadata": {
    "tags": []
   },
   "outputs": [],
   "source": [
    "data = pd.read_csv('C:/Users/user/Downloads/DSI/CEI/test_data_directory.csv')"
   ]
  },
  {
   "cell_type": "code",
   "execution_count": 4,
   "id": "f3f50735-6781-4578-a95f-f32cf0988f7d",
   "metadata": {
    "tags": []
   },
   "outputs": [],
   "source": [
    "categories = ['MBE', 'WBE', 'WMBE', 'SDVOSB', 'VBE', 'VOSB', 'BEPD', 'PBE', 'SWS']"
   ]
  },
  {
   "cell_type": "code",
   "execution_count": 5,
   "id": "f61022a8-afc0-4763-8091-e2b2dd00b8a8",
   "metadata": {},
   "outputs": [],
   "source": [
    "a=geocoding.slicing_df(data)"
   ]
  },
  {
   "cell_type": "code",
   "execution_count": 7,
   "id": "90e82ab9-8841-4815-b35c-5fa209714a43",
   "metadata": {
    "tags": []
   },
   "outputs": [
    {
     "data": {
      "text/plain": [
       "{'MBE': [('2205 Mayfair Westchester IL \\t60154',\n",
       "   '#1 Professional Cleaning Services'),\n",
       "  ('3511 North Osceola Avenue Chicago IL \\t60634',\n",
       "   \"'Bouche' Enterprises LLC\")],\n",
       " 'WBE': [],\n",
       " 'WMBE': [],\n",
       " 'SDVOSB': [],\n",
       " 'VBE': [],\n",
       " 'VOSB': [],\n",
       " 'BEPD': [('10049 Drury Ln Westchester IL \\t60154', '2 Sons LLC')],\n",
       " 'PBE': [('300 W. Front St., STE 204D Harvard IL \\t60033', '22Vets LLC')],\n",
       " 'SWS': []}"
      ]
     },
     "execution_count": 7,
     "metadata": {},
     "output_type": "execute_result"
    }
   ],
   "source": [
    "a"
   ]
  },
  {
   "cell_type": "code",
   "execution_count": 14,
   "id": "3af340dc-3c52-4b44-9e59-7372d231f81b",
   "metadata": {
    "tags": []
   },
   "outputs": [
    {
     "name": "stdout",
     "output_type": "stream",
     "text": [
      "total info: 2\n",
      "total info: 0\n",
      "total info: 0\n",
      "total info: 0\n",
      "total info: 0\n",
      "total info: 0\n",
      "total info: 1\n",
      "total info: 1\n",
      "total info: 0\n",
      "{'MBE': {'#1 Professional Cleaning Services': [{'place_id': 313695516, 'licence': 'Data © OpenStreetMap contributors, ODbL 1.0. https://osm.org/copyright', 'osm_type': 'way', 'osm_id': 24115777, 'boundingbox': ['41.848091240551', '41.848191240551', '-87.89151776492', '-87.89141776492'], 'lat': '41.84814124055146', 'lon': '-87.89146776492046', 'display_name': '2205, Mayfair Avenue, Westchester, Proviso Township, Cook County, Illinois, 60154, United States', 'class': 'place', 'type': 'house', 'importance': -0.6199999999999999}], \"'Bouche' Enterprises LLC\": [{'place_id': 143489913, 'licence': 'Data © OpenStreetMap contributors, ODbL 1.0. https://osm.org/copyright', 'osm_type': 'way', 'osm_id': 163342238, 'boundingbox': ['41.9437002', '41.9437652', '-87.8128888', '-87.8127069'], 'lat': '41.94374165', 'lon': '-87.81279771878613', 'display_name': '3511, North Osceola Avenue, Dunning, Chicago, Jefferson Township, Cook County, Illinois, 60634, United States', 'class': 'building', 'type': 'yes', 'importance': 0.7301}]}, 'WBE': {}, 'WMBE': {}, 'SDVOSB': {}, 'VBE': {}, 'VOSB': {}, 'BEPD': {'2 Sons LLC': [{'place_id': 313661746, 'licence': 'Data © OpenStreetMap contributors, ODbL 1.0. https://osm.org/copyright', 'osm_type': 'way', 'osm_id': 24108018, 'boundingbox': ['41.86205927535', '41.86215927535', '-87.873982264536', '-87.873882264536'], 'lat': '41.86210927535003', 'lon': '-87.87393226453614', 'display_name': '10049, Drury Lane, Westchester, Proviso Township, Cook County, Illinois, 60154, United States', 'class': 'place', 'type': 'house', 'importance': -0.6199999999999999}]}, 'PBE': {'22Vets LLC': []}, 'SWS': {}}\n"
     ]
    }
   ],
   "source": [
    "geocodes={}\n",
    "for cat in categories:\n",
    "    addresses_name = a[cat]\n",
    "    info ={}\n",
    "    # print(addresses_name)\n",
    "    for address, name in addresses_name:\n",
    "        # Define the URL for Nominatim API\n",
    "\n",
    "            url = f\"https://nominatim.openstreetmap.org/search?q={address}&format=json&limit=1\"\n",
    "                # Make the request with a timeout of 5 seconds\n",
    "            try:\n",
    "                response = requests.get(url, timeout=5)\n",
    "                response.raise_for_status()\n",
    "                data = response.json()\n",
    "                info[name]=data\n",
    "            except requests.exceptions.RequestException as e:\n",
    "                continue\n",
    "    geocodes[cat] = info\n",
    "print (geocodes)"
   ]
  },
  {
   "cell_type": "code",
   "execution_count": 41,
   "id": "aa29eca8-8677-484d-97bf-73c82bb6b9ad",
   "metadata": {
    "tags": []
   },
   "outputs": [
    {
     "ename": "TypeError",
     "evalue": "list indices must be integers or slices, not str",
     "output_type": "error",
     "traceback": [
      "\u001b[1;31m---------------------------------------------------------------------------\u001b[0m",
      "\u001b[1;31mTypeError\u001b[0m                                 Traceback (most recent call last)",
      "Cell \u001b[1;32mIn[41], line 2\u001b[0m\n\u001b[0;32m      1\u001b[0m info\u001b[38;5;241m=\u001b[39m{}\n\u001b[1;32m----> 2\u001b[0m sliced \u001b[38;5;241m=\u001b[39m geocoding\u001b[38;5;241m.\u001b[39mslicing_df(data)\n\u001b[0;32m      3\u001b[0m \u001b[38;5;28;01mfor\u001b[39;00m cat \u001b[38;5;129;01min\u001b[39;00m categories:\n\u001b[0;32m      4\u001b[0m     gc \u001b[38;5;241m=\u001b[39m {}\n",
      "File \u001b[1;32m~\\Downloads\\DSI\\geocoding.py:20\u001b[0m, in \u001b[0;36mslicing_df\u001b[1;34m(data)\u001b[0m\n\u001b[0;32m     18\u001b[0m dataframes \u001b[38;5;241m=\u001b[39m {} \n\u001b[0;32m     19\u001b[0m \u001b[38;5;28;01mfor\u001b[39;00m cat \u001b[38;5;129;01min\u001b[39;00m categories:\n\u001b[1;32m---> 20\u001b[0m     filtered_df \u001b[38;5;241m=\u001b[39m data[data[\u001b[38;5;124m'\u001b[39m\u001b[38;5;124mCertification Type\u001b[39m\u001b[38;5;124m'\u001b[39m] \u001b[38;5;241m==\u001b[39m cat] \u001b[38;5;66;03m#filter data based on category\u001b[39;00m\n\u001b[0;32m     21\u001b[0m     filtered_df \u001b[38;5;241m=\u001b[39m filtered_df[[\u001b[38;5;124m'\u001b[39m\u001b[38;5;124mAddress\u001b[39m\u001b[38;5;124m'\u001b[39m, \u001b[38;5;124m'\u001b[39m\u001b[38;5;124mCompany Name\u001b[39m\u001b[38;5;124m'\u001b[39m]] \u001b[38;5;66;03m#keep Address and Company Name only\u001b[39;00m\n\u001b[0;32m     22\u001b[0m     result_list \u001b[38;5;241m=\u001b[39m [\u001b[38;5;28mtuple\u001b[39m(row) \u001b[38;5;28;01mfor\u001b[39;00m row \u001b[38;5;129;01min\u001b[39;00m filtered_df\u001b[38;5;241m.\u001b[39mvalues] \u001b[38;5;66;03m#\u001b[39;00m\n",
      "\u001b[1;31mTypeError\u001b[0m: list indices must be integers or slices, not str"
     ]
    }
   ],
   "source": [
    "\n",
    "\n",
    "\n",
    "\n",
    "\n",
    "\n",
    "\n",
    "\n",
    "\n",
    "\n",
    "\n",
    "info={}\n",
    "sliced = geocoding.slicing_df(data)\n",
    "for cat in categories:\n",
    "    gc = {}\n",
    "    for address, name in sliced[cat]:         \n",
    "        url = f\"https://nominatim.openstreetmap.org/search?q={address}&format=json&limit=1\"\n",
    "#                 # Make the request with a timeout of 5 seconds\n",
    "        try:\n",
    "            response = requests.get(url, timeout=5)\n",
    "            response.raise_for_status()\n",
    "            data = response.json()\n",
    "            gc[name]=data\n",
    "        except requests.exceptions.RequestException as e:\n",
    "            continue\n",
    "    print(gc)\n",
    "    \n",
    "    # addresses_name = sliced[cat]\n",
    "    # print (addresses_name)\n",
    "    # for address, name in addresses_name:\n",
    "#         url = f\"https://nominatim.openstreetmap.org/search?q={address}&format=json&limit=1\"\n",
    "#                 # Make the request with a timeout of 5 seconds\n",
    "#         try:\n",
    "#             response = requests.get(url, timeout=5)\n",
    "#             response.raise_for_status()\n",
    "#             data = response.json()\n",
    "#             gc[name]=data\n",
    "#         except requests.exceptions.RequestException as e:\n",
    "#             continue\n",
    "#     info[cat] = gc\n",
    "    \n"
   ]
  },
  {
   "cell_type": "code",
   "execution_count": 10,
   "id": "e9b92d0c-fa2e-43c7-96f6-88eed9c10cf7",
   "metadata": {
    "tags": []
   },
   "outputs": [
    {
     "name": "stdout",
     "output_type": "stream",
     "text": [
      "total info: 2\n"
     ]
    },
    {
     "ename": "TypeError",
     "evalue": "list indices must be integers or slices, not str",
     "output_type": "error",
     "traceback": [
      "\u001b[1;31m---------------------------------------------------------------------------\u001b[0m",
      "\u001b[1;31mTypeError\u001b[0m                                 Traceback (most recent call last)",
      "Cell \u001b[1;32mIn[10], line 3\u001b[0m\n\u001b[0;32m      1\u001b[0m info\u001b[38;5;241m=\u001b[39m{}\n\u001b[0;32m      2\u001b[0m \u001b[38;5;28;01mfor\u001b[39;00m cat \u001b[38;5;129;01min\u001b[39;00m categories:\n\u001b[1;32m----> 3\u001b[0m     sliced \u001b[38;5;241m=\u001b[39m geocoding\u001b[38;5;241m.\u001b[39mslicing_df(data)\n\u001b[0;32m      4\u001b[0m     addresses_name \u001b[38;5;241m=\u001b[39m sliced[cat]\n\u001b[0;32m      5\u001b[0m     \u001b[38;5;28;01mfor\u001b[39;00m address, name \u001b[38;5;129;01min\u001b[39;00m addresses_name:\n\u001b[0;32m      6\u001b[0m     \u001b[38;5;66;03m# Define the URL for Nominatim API\u001b[39;00m\n",
      "File \u001b[1;32m~\\Downloads\\DSI\\geocoding.py:20\u001b[0m, in \u001b[0;36mslicing_df\u001b[1;34m(data)\u001b[0m\n\u001b[0;32m     18\u001b[0m dataframes \u001b[38;5;241m=\u001b[39m {} \n\u001b[0;32m     19\u001b[0m \u001b[38;5;28;01mfor\u001b[39;00m cat \u001b[38;5;129;01min\u001b[39;00m categories:\n\u001b[1;32m---> 20\u001b[0m     filtered_df \u001b[38;5;241m=\u001b[39m data[data[\u001b[38;5;124m'\u001b[39m\u001b[38;5;124mCertification Type\u001b[39m\u001b[38;5;124m'\u001b[39m] \u001b[38;5;241m==\u001b[39m cat] \u001b[38;5;66;03m#filter data based on category\u001b[39;00m\n\u001b[0;32m     21\u001b[0m     filtered_df \u001b[38;5;241m=\u001b[39m filtered_df[[\u001b[38;5;124m'\u001b[39m\u001b[38;5;124mAddress\u001b[39m\u001b[38;5;124m'\u001b[39m, \u001b[38;5;124m'\u001b[39m\u001b[38;5;124mCompany Name\u001b[39m\u001b[38;5;124m'\u001b[39m]] \u001b[38;5;66;03m#keep Address and Company Name only\u001b[39;00m\n\u001b[0;32m     22\u001b[0m     result_list \u001b[38;5;241m=\u001b[39m [\u001b[38;5;28mtuple\u001b[39m(row) \u001b[38;5;28;01mfor\u001b[39;00m row \u001b[38;5;129;01min\u001b[39;00m filtered_df\u001b[38;5;241m.\u001b[39mvalues] \u001b[38;5;66;03m#\u001b[39;00m\n",
      "\u001b[1;31mTypeError\u001b[0m: list indices must be integers or slices, not str"
     ]
    }
   ],
   "source": [
    "info={}\n",
    "for cat in categories:\n",
    "    sliced = geocoding.slicing_df(data)\n",
    "    addresses_name = sliced[cat]\n",
    "    for address, name in addresses_name:\n",
    "    # Define the URL for Nominatim API\n",
    "\n",
    "        url = f\"https://nominatim.openstreetmap.org/search?q={address}&format=json&limit=1\"\n",
    "                # Make the request with a timeout of 5 seconds\n",
    "        try:\n",
    "            response = requests.get(url, timeout=5)\n",
    "            response.raise_for_status()\n",
    "            data = response.json()\n",
    "            info[name]=data\n",
    "        except requests.exceptions.RequestException as e:\n",
    "            continue\n",
    "    print (\"total info:\", len(info))\n",
    "return info"
   ]
  },
  {
   "cell_type": "code",
   "execution_count": 5,
   "id": "01bd2452-b6b8-4ff7-955e-e3905bf84108",
   "metadata": {
    "tags": []
   },
   "outputs": [
    {
     "data": {
      "text/plain": [
       "{'MBE': {'#1 Professional Cleaning Services': [{'place_id': 313695516,\n",
       "    'licence': 'Data © OpenStreetMap contributors, ODbL 1.0. https://osm.org/copyright',\n",
       "    'osm_type': 'way',\n",
       "    'osm_id': 24115777,\n",
       "    'boundingbox': ['41.848091240551',\n",
       "     '41.848191240551',\n",
       "     '-87.89151776492',\n",
       "     '-87.89141776492'],\n",
       "    'lat': '41.84814124055146',\n",
       "    'lon': '-87.89146776492046',\n",
       "    'display_name': '2205, Mayfair Avenue, Westchester, Proviso Township, Cook County, Illinois, 60154, United States',\n",
       "    'class': 'place',\n",
       "    'type': 'house',\n",
       "    'importance': -0.6199999999999999}],\n",
       "  \"'Bouche' Enterprises LLC\": [{'place_id': 143489913,\n",
       "    'licence': 'Data © OpenStreetMap contributors, ODbL 1.0. https://osm.org/copyright',\n",
       "    'osm_type': 'way',\n",
       "    'osm_id': 163342238,\n",
       "    'boundingbox': ['41.9437002', '41.9437652', '-87.8128888', '-87.8127069'],\n",
       "    'lat': '41.94374165',\n",
       "    'lon': '-87.81279771878613',\n",
       "    'display_name': '3511, North Osceola Avenue, Dunning, Chicago, Jefferson Township, Cook County, Illinois, 60634, United States',\n",
       "    'class': 'building',\n",
       "    'type': 'yes',\n",
       "    'importance': 0.7301}]},\n",
       " 'WBE': {},\n",
       " 'WMBE': {},\n",
       " 'SDVOSB': {},\n",
       " 'VBE': {},\n",
       " 'VOSB': {},\n",
       " 'BEPD': {'2 Sons LLC': [{'place_id': 313661746,\n",
       "    'licence': 'Data © OpenStreetMap contributors, ODbL 1.0. https://osm.org/copyright',\n",
       "    'osm_type': 'way',\n",
       "    'osm_id': 24108018,\n",
       "    'boundingbox': ['41.86205927535',\n",
       "     '41.86215927535',\n",
       "     '-87.873982264536',\n",
       "     '-87.873882264536'],\n",
       "    'lat': '41.86210927535003',\n",
       "    'lon': '-87.87393226453614',\n",
       "    'display_name': '10049, Drury Lane, Westchester, Proviso Township, Cook County, Illinois, 60154, United States',\n",
       "    'class': 'place',\n",
       "    'type': 'house',\n",
       "    'importance': -0.6199999999999999}]},\n",
       " 'PBE': {'22Vets LLC': []},\n",
       " 'SWS': {}}"
      ]
     },
     "execution_count": 5,
     "metadata": {},
     "output_type": "execute_result"
    }
   ],
   "source": [
    "geocoding.extracting_location(data)"
   ]
  },
  {
   "cell_type": "code",
   "execution_count": 8,
   "id": "d17e75d6-3185-48cc-ab28-f2963f1caff6",
   "metadata": {
    "tags": []
   },
   "outputs": [],
   "source": [
    "geocoding.save_geocodes(data)"
   ]
  },
  {
   "cell_type": "code",
   "execution_count": null,
   "id": "1f979536-e2d7-445f-8a58-e1a937cebf3f",
   "metadata": {},
   "outputs": [],
   "source": []
  }
 ],
 "metadata": {
  "kernelspec": {
   "display_name": "Python 3 (ipykernel)",
   "language": "python",
   "name": "python3"
  },
  "language_info": {
   "codemirror_mode": {
    "name": "ipython",
    "version": 3
   },
   "file_extension": ".py",
   "mimetype": "text/x-python",
   "name": "python",
   "nbconvert_exporter": "python",
   "pygments_lexer": "ipython3",
   "version": "3.11.3"
  }
 },
 "nbformat": 4,
 "nbformat_minor": 5
}
