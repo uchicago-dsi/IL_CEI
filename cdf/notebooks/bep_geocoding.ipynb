{
 "cells": [
  {
   "cell_type": "code",
   "execution_count": 1,
   "id": "fbdea573-2075-4740-bba0-375d5e9c9518",
   "metadata": {},
   "outputs": [],
   "source": [
    "import pandas as pd\n",
    "import json\n",
    "from geopy.geocoders import Nominatim\n",
    "import requests"
   ]
  },
  {
   "cell_type": "code",
   "execution_count": 2,
   "id": "42abcadb-9013-44d7-9f5f-8fb4aabebc3e",
   "metadata": {
    "tags": []
   },
   "outputs": [],
   "source": [
    "import geocoding"
   ]
  },
  {
   "cell_type": "code",
   "execution_count": 6,
   "id": "dfa14031-6cbf-45c9-be74-f4ac5ea0f144",
   "metadata": {
    "tags": []
   },
   "outputs": [],
   "source": [
    "data = pd.read_csv('C:/Users/user/Downloads/DSI/CEI/test_data_directory.csv')"
   ]
  },
  {
   "cell_type": "code",
   "execution_count": 4,
   "id": "f3f50735-6781-4578-a95f-f32cf0988f7d",
   "metadata": {
    "tags": []
   },
   "outputs": [],
   "source": [
    "## IMPORTANT TO NOTE! Geocoding can run slow... it is important to select some categories first, dont run everything all at once. \n",
    "\n",
    "categories = ['MBE', 'WBE', 'WMBE', 'SDVOSB', 'VBE', 'VOSB', 'BEPD', 'PBE', 'SWS']  ##add/remove categories in  the list for easier geocoding"
   ]
  },
  {
   "cell_type": "code",
   "execution_count": 7,
   "id": "a1c7a288-d45a-4b65-9add-c2d2560f7f08",
   "metadata": {
    "tags": []
   },
   "outputs": [],
   "source": [
    "geocoding.save_geocodes(data)"
   ]
  }
 ],
 "metadata": {
  "kernelspec": {
   "display_name": "Python 3 (ipykernel)",
   "language": "python",
   "name": "python3"
  },
  "language_info": {
   "codemirror_mode": {
    "name": "ipython",
    "version": 3
   },
   "file_extension": ".py",
   "mimetype": "text/x-python",
   "name": "python",
   "nbconvert_exporter": "python",
   "pygments_lexer": "ipython3",
   "version": "3.11.3"
  }
 },
 "nbformat": 4,
 "nbformat_minor": 5
}
