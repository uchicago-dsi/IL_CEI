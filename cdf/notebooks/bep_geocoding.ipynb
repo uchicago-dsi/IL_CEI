{
 "cells": [
  {
   "cell_type": "code",
   "execution_count": 1,
   "id": "fbdea573-2075-4740-bba0-375d5e9c9518",
   "metadata": {},
   "outputs": [],
   "source": [
    "import pandas as pd\n",
    "import json\n",
    "from geopy.geocoders import Nominatim\n",
    "import requests"
   ]
  },
  {
   "cell_type": "code",
   "execution_count": 2,
   "id": "42abcadb-9013-44d7-9f5f-8fb4aabebc3e",
   "metadata": {
    "tags": []
   },
   "outputs": [],
   "source": [
    "import geocoding"
   ]
  },
  {
   "cell_type": "code",
   "execution_count": 6,
   "id": "dfa14031-6cbf-45c9-be74-f4ac5ea0f144",
   "metadata": {
    "tags": []
   },
   "outputs": [],
   "source": [
    "data = pd.read_csv('C:/Users/user/Downloads/DSI/CEI/test_data_directory.csv')"
   ]
  },
  {
   "cell_type": "code",
   "execution_count": 4,
   "id": "f3f50735-6781-4578-a95f-f32cf0988f7d",
   "metadata": {
    "tags": []
   },
   "outputs": [],
   "source": [
    "## IMPORTANT TO NOTE! Geocoding can run slow... it is important to select some categories first, dont run everything all at once. \n",
    "\n",
    "categories = ['MBE', 'WBE', 'WMBE', 'SDVOSB', 'VBE', 'VOSB', 'BEPD', 'PBE', 'SWS']  ##add/remove categories in  the list for easier geocoding"
   ]
  },
  {
   "cell_type": "code",
   "execution_count": 7,
   "id": "a1c7a288-d45a-4b65-9add-c2d2560f7f08",
   "metadata": {
    "tags": []
   },
   "outputs": [],
   "source": [
    "geocoding.save_geocodes(data)"
   ]
  },
  {
   "cell_type": "markdown",
   "id": "88365e80-c417-40b2-84d3-325fc0d2aba1",
   "metadata": {},
   "source": [
    "## ADDING PREVIOSULY EXTRACTED DATA"
   ]
  },
  {
   "cell_type": "code",
   "execution_count": 83,
   "id": "d001ac7a-1efd-47e4-a1a3-597821f149d1",
   "metadata": {
    "tags": []
   },
   "outputs": [],
   "source": [
    "#OPEN COMBINED DATA DICT\n",
    "with open('SWS200.json', 'r') as file:\n",
    "        data = json.load(file)"
   ]
  },
  {
   "cell_type": "code",
   "execution_count": 84,
   "id": "3b173778-f9bf-405b-8065-5bea6f06a73a",
   "metadata": {
    "tags": []
   },
   "outputs": [],
   "source": [
    "# new_dict={}\n",
    "# new_dict['category'] = 'MBE'\n",
    "for key, value in data.items():\n",
    "    if len(value) > 0:\n",
    "        value[0]['category'] ='SWS'\n",
    "    else:\n",
    "        continue"
   ]
  },
  {
   "cell_type": "code",
   "execution_count": 85,
   "id": "09e16618-b755-4679-93ca-9d5a3b1cca21",
   "metadata": {
    "tags": []
   },
   "outputs": [],
   "source": [
    "file_path_raw = \"C:/Users/user/Downloads/DSI/CEI/Geocode/geocoded_loc_raw.json\"\n",
    "new_data = data\n",
    "\n",
    "try:\n",
    "       # Step 1: Read existing JSON data from the file (if it exists)\n",
    "    with open(file_path_raw, 'r') as json_file:\n",
    "        existing_data = json.load(json_file)\n",
    "except FileNotFoundError:\n",
    "        # If the file doesn't exist, start with an empty list\n",
    "    existing_data = {}\n",
    "        \n",
    "   \n",
    "existing_data_list = list(existing_data.items())\n",
    "new_data_list = list(new_data.items())\n",
    "\n",
    "    #If new data is not in the existing data list, add it\n",
    "for company in new_data_list:\n",
    "    if company not in existing_data_list:\n",
    "        existing_data_list.append(company)\n",
    "            \n",
    "existing_data_updated = dict(existing_data_list)\n",
    "    \n",
    "    # Write the updated data back to the JSON file\n",
    "with open(file_path_raw, 'w') as file:\n",
    "    json.dump(existing_data_updated, file, indent=2)"
   ]
  },
  {
   "cell_type": "code",
   "execution_count": null,
   "id": "5df46a2c-de97-4c87-850d-f8cbf996381f",
   "metadata": {},
   "outputs": [],
   "source": []
  }
 ],
 "metadata": {
  "kernelspec": {
   "display_name": "Python 3 (ipykernel)",
   "language": "python",
   "name": "python3"
  },
  "language_info": {
   "codemirror_mode": {
    "name": "ipython",
    "version": 3
   },
   "file_extension": ".py",
   "mimetype": "text/x-python",
   "name": "python",
   "nbconvert_exporter": "python",
   "pygments_lexer": "ipython3",
   "version": "3.11.3"
  }
 },
 "nbformat": 4,
 "nbformat_minor": 5
}
